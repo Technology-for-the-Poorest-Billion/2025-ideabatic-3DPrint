{
 "cells": [
  {
   "cell_type": "code",
   "execution_count": 8,
   "id": "1459f897",
   "metadata": {},
   "outputs": [],
   "source": [
    "import numpy as np\n",
    "import matplotlib.pyplot as plt\n",
    "\n",
    "l = 0.2 #length of container\n",
    "#function to generate radial thermal resistance\n",
    "def Rth_radial(r1,r2, k):\n",
    "    Rth = np.log(r2/r1) / (2*np.pi*l*k)\n",
    "    return Rth\n"
   ]
  },
  {
   "cell_type": "code",
   "execution_count": 2,
   "id": "0d59be97",
   "metadata": {},
   "outputs": [
    {
     "name": "stdout",
     "output_type": "stream",
     "text": [
      "41.0cm\n"
     ]
    }
   ],
   "source": [
    "#Approach: generate thermal resistances of key insulation components and run basic simulation\n",
    "\n",
    "#Defining key variables for cooler design. This model IGNORES plastic conduction.\n",
    "#put all of this into a function to output performance for a variety of designs?\n",
    "R_ice = 0.08 \n",
    "#first insulation layer between ice and vaccines\n",
    "t_insulation = 0.005 #stops vaccine freezing\n",
    "R_insulation = R_ice + t_insulation \n",
    "k_insulation = 0.03\n",
    "Rth_insulation = Rth_radial(R_ice, R_insulation, k_insulation)\n",
    "#air gap containing vaccines\n",
    "t_air = 0.04\n",
    "R_air = R_insulation + t_air\n",
    "k_air = 0.024\n",
    "Rth_air = Rth_radial(R_insulation, R_air, k_air)\n",
    "#foam outer layer \n",
    "t_foam = 0.08\n",
    "R_foam = R_air + t_foam\n",
    "k_foam = 0.03\n",
    "Rth_foam = Rth_radial(R_air, R_foam, k_foam)\n",
    "#printing total part diameter, for refernce:\n",
    "print(str(R_foam*2*100) + \"cm\")\n",
    "\n"
   ]
  },
  {
   "cell_type": "code",
   "execution_count": 3,
   "id": "b464ca04",
   "metadata": {},
   "outputs": [],
   "source": [
    "#Convection loss estimation\n",
    "v = 1 #this is speed of external air\n",
    "h_outer = 12.12-1.16*v+11.6*v**(1/2) # #empirical relationship https://www.engineeringtoolbox.com/convective-heat-transfer-d_430.html - this is an empirical equation and can be used for velocities 2 to 20 m/s.\n",
    "Rth_convection = 1/(2*np.pi*R_foam*l*h_outer)\n",
    "\n",
    "#total thermal resistance \n",
    "Rth_total =  Rth_foam + Rth_air + Rth_insulation + Rth_convection\n",
    "\n",
    "#print(Rth_convection)\n",
    "\n",
    "#print(Rth_total)\n"
   ]
  },
  {
   "cell_type": "code",
   "execution_count": 4,
   "id": "1b8987e7",
   "metadata": {},
   "outputs": [],
   "source": [
    "#Flat surface simulation\n",
    "#Constructed of insulated and foam layer\n",
    "def Rth_linear(l, A, k):\n",
    "    Rth = l/(A*k)\n",
    "    return Rth\n",
    "\n",
    "A = np.pi * R_ice * R_ice\n",
    "\n",
    "#first insulation layer, the same layer used around ice bottle circumfrence\n",
    "t_flat_insulation = t_insulation\n",
    "\n",
    "Rth_Flat_Insulation = Rth_linear(t_flat_insulation, A, k_insulation)\n",
    "\n",
    "#second insulation layer \n",
    "t_flat_foam = 0.05\n",
    "\n",
    "Rth_flat_foam = Rth_linear(t_flat_foam, A , k_insulation)\n",
    "\n",
    "Rth_flat_total = Rth_Flat_Insulation + Rth_flat_foam\n",
    "\n"
   ]
  },
  {
   "cell_type": "code",
   "execution_count": 5,
   "id": "c3e5f179",
   "metadata": {},
   "outputs": [
    {
     "name": "stdout",
     "output_type": "stream",
     "text": [
      "rate of heat loss: 1.74 W\n"
     ]
    }
   ],
   "source": [
    "#setting up simulation\n",
    "T_e = 30 #degc, environment temp\n",
    "T_ice = 0 #degc, ice temp\n",
    "del_T = T_e - T_ice\n",
    "Q_dot_radial = del_T / Rth_total #using ohms analogy\n",
    "Q_dot_linear = 2 * del_T / Rth_flat_total\n",
    "Q_dot = Q_dot_linear + Q_dot_radial\n",
    "print(\"rate of heat loss: \" +str(round(Q_dot,2)) +\" W\")"
   ]
  },
  {
   "cell_type": "code",
   "execution_count": 6,
   "id": "7d1fdc42",
   "metadata": {},
   "outputs": [
    {
     "name": "stdout",
     "output_type": "stream",
     "text": [
      "Time at adequate temp: 133.2 hours\n"
     ]
    }
   ],
   "source": [
    "#Estimating phase change duration\n",
    "m_ice = 2.5 #kg\n",
    "SLH_ice = 334000 #j/kg\n",
    "Q_ice = SLH_ice * m_ice\n",
    "\n",
    "t_cool = Q_ice/Q_dot # seconds\n",
    "t_cool_hours = t_cool / 3600\n",
    "\n",
    "print(\"Time at adequate temp: \" + str(round(t_cool_hours,1)) + \" hours\")"
   ]
  },
  {
   "cell_type": "code",
   "execution_count": 7,
   "id": "a2338755",
   "metadata": {},
   "outputs": [
    {
     "name": "stdout",
     "output_type": "stream",
     "text": [
      "temperature at edge of insulation layer: 2.8 deg C\n",
      "temperature at edge of vaccine container: 25.1 deg C\n"
     ]
    }
   ],
   "source": [
    "#Calculating temperature at each boundary \n",
    "del_T_insulation = Q_dot * Rth_insulation \n",
    "print(\"temperature at edge of insulation layer: \" +str(round(del_T_insulation,1)) + \" deg C\")\n",
    "del_T_air = Q_dot * Rth_air\n",
    "T_air_edge = del_T_air + del_T_insulation\n",
    "print(\"temperature at edge of vaccine container: \" +str(round(T_air_edge,1)) + \" deg C\")"
   ]
  },
  {
   "cell_type": "code",
   "execution_count": null,
   "id": "53990edb",
   "metadata": {},
   "outputs": [],
   "source": []
  }
 ],
 "metadata": {
  "kernelspec": {
   "display_name": "Python 3",
   "language": "python",
   "name": "python3"
  },
  "language_info": {
   "codemirror_mode": {
    "name": "ipython",
    "version": 3
   },
   "file_extension": ".py",
   "mimetype": "text/x-python",
   "name": "python",
   "nbconvert_exporter": "python",
   "pygments_lexer": "ipython3",
   "version": "3.12.3"
  }
 },
 "nbformat": 4,
 "nbformat_minor": 5
}
